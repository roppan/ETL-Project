{
 "cells": [
  {
   "cell_type": "code",
   "execution_count": 1,
   "metadata": {},
   "outputs": [],
   "source": [
    "#!pip install simple_salesforce"
   ]
  },
  {
   "cell_type": "code",
   "execution_count": 2,
   "metadata": {},
   "outputs": [],
   "source": [
    "import json\n",
    "from sqlalchemy import create_engine\n",
    "import pandas as pd\n",
    "import pymysql\n",
    "pymysql.install_as_MySQLdb()"
   ]
  },
  {
   "cell_type": "code",
   "execution_count": 3,
   "metadata": {},
   "outputs": [],
   "source": [
    "# import sys\n",
    "# sys.path.append('../../../../')\n",
    "from config import sf_username, sf_password, sf_security_token\n",
    "from config import remote_db_endpoint, remote_db_port\n",
    "from config import remote_db_name, remote_db_user, remote_db_pwd"
   ]
  },
  {
   "cell_type": "code",
   "execution_count": 4,
   "metadata": {},
   "outputs": [],
   "source": [
    "from simple_salesforce import Salesforce\n",
    "sf = Salesforce(username=sf_username, password=sf_password, security_token=sf_security_token)"
   ]
  },
  {
   "cell_type": "code",
   "execution_count": 5,
   "metadata": {},
   "outputs": [],
   "source": [
    "engine = create_engine(f\"mysql://{remote_db_user}:{remote_db_pwd}@{remote_db_endpoint}:{remote_db_port}/{remote_db_name}\")\n",
    "conn = engine.connect()"
   ]
  },
  {
   "cell_type": "code",
   "execution_count": 6,
   "metadata": {},
   "outputs": [
    {
     "data": {
      "text/html": [
       "<div>\n",
       "<style scoped>\n",
       "    .dataframe tbody tr th:only-of-type {\n",
       "        vertical-align: middle;\n",
       "    }\n",
       "\n",
       "    .dataframe tbody tr th {\n",
       "        vertical-align: top;\n",
       "    }\n",
       "\n",
       "    .dataframe thead th {\n",
       "        text-align: right;\n",
       "    }\n",
       "</style>\n",
       "<table border=\"1\" class=\"dataframe\">\n",
       "  <thead>\n",
       "    <tr style=\"text-align: right;\">\n",
       "      <th></th>\n",
       "      <th>ID_Class</th>\n",
       "      <th>ID_Course</th>\n",
       "      <th>Section</th>\n",
       "      <th>StartDate</th>\n",
       "      <th>EndDate</th>\n",
       "    </tr>\n",
       "  </thead>\n",
       "  <tbody>\n",
       "    <tr>\n",
       "      <td>0</td>\n",
       "      <td>1</td>\n",
       "      <td>1</td>\n",
       "      <td>GWU-ARL-DATA-PT-09-0</td>\n",
       "      <td>2020-03-16</td>\n",
       "      <td>2020-03-14</td>\n",
       "    </tr>\n",
       "    <tr>\n",
       "      <td>1</td>\n",
       "      <td>2</td>\n",
       "      <td>1</td>\n",
       "      <td>GWDC201805DATA3</td>\n",
       "      <td>2018-05-15</td>\n",
       "      <td>2018-11-08</td>\n",
       "    </tr>\n",
       "    <tr>\n",
       "      <td>2</td>\n",
       "      <td>3</td>\n",
       "      <td>2</td>\n",
       "      <td>GWARL201905WEB3</td>\n",
       "      <td>2019-05-14</td>\n",
       "      <td>2019-11-07</td>\n",
       "    </tr>\n",
       "    <tr>\n",
       "      <td>3</td>\n",
       "      <td>4</td>\n",
       "      <td>3</td>\n",
       "      <td>GWARL201905UIUX3</td>\n",
       "      <td>2019-05-14</td>\n",
       "      <td>2019-11-07</td>\n",
       "    </tr>\n",
       "  </tbody>\n",
       "</table>\n",
       "</div>"
      ],
      "text/plain": [
       "   ID_Class  ID_Course               Section   StartDate     EndDate\n",
       "0         1          1  GWU-ARL-DATA-PT-09-0  2020-03-16  2020-03-14\n",
       "1         2          1       GWDC201805DATA3  2018-05-15  2018-11-08\n",
       "2         3          2       GWARL201905WEB3  2019-05-14  2019-11-07\n",
       "3         4          3      GWARL201905UIUX3  2019-05-14  2019-11-07"
      ]
     },
     "execution_count": 6,
     "metadata": {},
     "output_type": "execute_result"
    }
   ],
   "source": [
    "class_data_df = pd.read_sql(\"SELECT * FROM class\", conn)\n",
    "class_data_df.head(30)"
   ]
  },
  {
   "cell_type": "code",
   "execution_count": 7,
   "metadata": {},
   "outputs": [
    {
     "data": {
      "text/html": [
       "<div>\n",
       "<style scoped>\n",
       "    .dataframe tbody tr th:only-of-type {\n",
       "        vertical-align: middle;\n",
       "    }\n",
       "\n",
       "    .dataframe tbody tr th {\n",
       "        vertical-align: top;\n",
       "    }\n",
       "\n",
       "    .dataframe thead th {\n",
       "        text-align: right;\n",
       "    }\n",
       "</style>\n",
       "<table border=\"1\" class=\"dataframe\">\n",
       "  <thead>\n",
       "    <tr style=\"text-align: right;\">\n",
       "      <th></th>\n",
       "      <th>ID_Class__c</th>\n",
       "      <th>ID_Course__c</th>\n",
       "      <th>Section__c</th>\n",
       "      <th>Start_Date__c</th>\n",
       "      <th>End_Date__c</th>\n",
       "    </tr>\n",
       "  </thead>\n",
       "  <tbody>\n",
       "    <tr>\n",
       "      <td>0</td>\n",
       "      <td>1</td>\n",
       "      <td>1</td>\n",
       "      <td>GWU-ARL-DATA-PT-09-0</td>\n",
       "      <td>2020-03-16</td>\n",
       "      <td>2020-03-14</td>\n",
       "    </tr>\n",
       "    <tr>\n",
       "      <td>1</td>\n",
       "      <td>2</td>\n",
       "      <td>1</td>\n",
       "      <td>GWDC201805DATA3</td>\n",
       "      <td>2018-05-15</td>\n",
       "      <td>2018-11-08</td>\n",
       "    </tr>\n",
       "    <tr>\n",
       "      <td>2</td>\n",
       "      <td>3</td>\n",
       "      <td>2</td>\n",
       "      <td>GWARL201905WEB3</td>\n",
       "      <td>2019-05-14</td>\n",
       "      <td>2019-11-07</td>\n",
       "    </tr>\n",
       "    <tr>\n",
       "      <td>3</td>\n",
       "      <td>4</td>\n",
       "      <td>3</td>\n",
       "      <td>GWARL201905UIUX3</td>\n",
       "      <td>2019-05-14</td>\n",
       "      <td>2019-11-07</td>\n",
       "    </tr>\n",
       "  </tbody>\n",
       "</table>\n",
       "</div>"
      ],
      "text/plain": [
       "   ID_Class__c  ID_Course__c            Section__c Start_Date__c End_Date__c\n",
       "0            1             1  GWU-ARL-DATA-PT-09-0    2020-03-16  2020-03-14\n",
       "1            2             1       GWDC201805DATA3    2018-05-15  2018-11-08\n",
       "2            3             2       GWARL201905WEB3    2019-05-14  2019-11-07\n",
       "3            4             3      GWARL201905UIUX3    2019-05-14  2019-11-07"
      ]
     },
     "execution_count": 7,
     "metadata": {},
     "output_type": "execute_result"
    }
   ],
   "source": [
    "class_data_df.rename(columns={\n",
    "    'ID_Class':'ID_Class__c',\n",
    "    'ID_Course':'ID_Course__c',\n",
    "    'Section':'Section__c',\n",
    "    'StartDate':'Start_Date__c',\n",
    "    'EndDate':'End_Date__c',    \n",
    "}, inplace=True)\n",
    "class_data_df.head()"
   ]
  },
  {
   "cell_type": "code",
   "execution_count": 8,
   "metadata": {},
   "outputs": [
    {
     "data": {
      "text/html": [
       "<div>\n",
       "<style scoped>\n",
       "    .dataframe tbody tr th:only-of-type {\n",
       "        vertical-align: middle;\n",
       "    }\n",
       "\n",
       "    .dataframe tbody tr th {\n",
       "        vertical-align: top;\n",
       "    }\n",
       "\n",
       "    .dataframe thead th {\n",
       "        text-align: right;\n",
       "    }\n",
       "</style>\n",
       "<table border=\"1\" class=\"dataframe\">\n",
       "  <thead>\n",
       "    <tr style=\"text-align: right;\">\n",
       "      <th></th>\n",
       "      <th>ID_Class__c</th>\n",
       "      <th>ID_Course__c</th>\n",
       "      <th>Section__c</th>\n",
       "      <th>Start_Date__c</th>\n",
       "      <th>End_Date__c</th>\n",
       "    </tr>\n",
       "  </thead>\n",
       "  <tbody>\n",
       "    <tr>\n",
       "      <td>0</td>\n",
       "      <td>1</td>\n",
       "      <td>1</td>\n",
       "      <td>GWU-ARL-DATA-PT-09-0</td>\n",
       "      <td>2020-03-16</td>\n",
       "      <td>2020-03-14</td>\n",
       "    </tr>\n",
       "    <tr>\n",
       "      <td>1</td>\n",
       "      <td>2</td>\n",
       "      <td>1</td>\n",
       "      <td>GWDC201805DATA3</td>\n",
       "      <td>2018-05-15</td>\n",
       "      <td>2018-11-08</td>\n",
       "    </tr>\n",
       "    <tr>\n",
       "      <td>2</td>\n",
       "      <td>3</td>\n",
       "      <td>2</td>\n",
       "      <td>GWARL201905WEB3</td>\n",
       "      <td>2019-05-14</td>\n",
       "      <td>2019-11-07</td>\n",
       "    </tr>\n",
       "    <tr>\n",
       "      <td>3</td>\n",
       "      <td>4</td>\n",
       "      <td>3</td>\n",
       "      <td>GWARL201905UIUX3</td>\n",
       "      <td>2019-05-14</td>\n",
       "      <td>2019-11-07</td>\n",
       "    </tr>\n",
       "  </tbody>\n",
       "</table>\n",
       "</div>"
      ],
      "text/plain": [
       "   ID_Class__c  ID_Course__c            Section__c Start_Date__c End_Date__c\n",
       "0            1             1  GWU-ARL-DATA-PT-09-0    2020-03-16  2020-03-14\n",
       "1            2             1       GWDC201805DATA3    2018-05-15  2018-11-08\n",
       "2            3             2       GWARL201905WEB3    2019-05-14  2019-11-07\n",
       "3            4             3      GWARL201905UIUX3    2019-05-14  2019-11-07"
      ]
     },
     "execution_count": 8,
     "metadata": {},
     "output_type": "execute_result"
    }
   ],
   "source": [
    "class_data_df = class_data_df[['ID_Class__c', 'ID_Course__c', 'Section__c', 'Start_Date__c', 'End_Date__c']]\n",
    "class_data_df.head()"
   ]
  },
  {
   "cell_type": "code",
   "execution_count": 9,
   "metadata": {},
   "outputs": [
    {
     "data": {
      "text/plain": [
       "[{'ID_Class__c': 1,\n",
       "  'ID_Course__c': 1,\n",
       "  'Section__c': 'GWU-ARL-DATA-PT-09-0',\n",
       "  'Start_Date__c': datetime.date(2020, 3, 16),\n",
       "  'End_Date__c': datetime.date(2020, 3, 14)},\n",
       " {'ID_Class__c': 2,\n",
       "  'ID_Course__c': 1,\n",
       "  'Section__c': 'GWDC201805DATA3',\n",
       "  'Start_Date__c': datetime.date(2018, 5, 15),\n",
       "  'End_Date__c': datetime.date(2018, 11, 8)},\n",
       " {'ID_Class__c': 3,\n",
       "  'ID_Course__c': 2,\n",
       "  'Section__c': 'GWARL201905WEB3',\n",
       "  'Start_Date__c': datetime.date(2019, 5, 14),\n",
       "  'End_Date__c': datetime.date(2019, 11, 7)},\n",
       " {'ID_Class__c': 4,\n",
       "  'ID_Course__c': 3,\n",
       "  'Section__c': 'GWARL201905UIUX3',\n",
       "  'Start_Date__c': datetime.date(2019, 5, 14),\n",
       "  'End_Date__c': datetime.date(2019, 11, 7)}]"
      ]
     },
     "execution_count": 9,
     "metadata": {},
     "output_type": "execute_result"
    }
   ],
   "source": [
    "class_data_records = class_data_df.to_dict('records')\n",
    "class_data_records"
   ]
  },
  {
   "cell_type": "code",
   "execution_count": 10,
   "metadata": {},
   "outputs": [
    {
     "name": "stdout",
     "output_type": "stream",
     "text": [
      "Malformed request https://na111.salesforce.com/services/data/v42.0/sobjects/Class__C/. Response content: [{'message': \"No such column 'ID_Class__c' on sobject of type Class__c\", 'errorCode': 'INVALID_FIELD'}]\n",
      "Malformed request https://na111.salesforce.com/services/data/v42.0/sobjects/Class__C/. Response content: [{'message': \"No such column 'ID_Class__c' on sobject of type Class__c\", 'errorCode': 'INVALID_FIELD'}]\n",
      "Malformed request https://na111.salesforce.com/services/data/v42.0/sobjects/Class__C/. Response content: [{'message': \"No such column 'ID_Class__c' on sobject of type Class__c\", 'errorCode': 'INVALID_FIELD'}]\n",
      "Malformed request https://na111.salesforce.com/services/data/v42.0/sobjects/Class__C/. Response content: [{'message': \"No such column 'ID_Class__c' on sobject of type Class__c\", 'errorCode': 'INVALID_FIELD'}]\n"
     ]
    }
   ],
   "source": [
    "for rec in class_data_records:\n",
    "    \n",
    "    record = {\n",
    "        'ID_Class__c': rec['ID_Class__c'],\n",
    "        'ID_Course__c': rec['ID_Course__c'],\n",
    "        'Section__c': rec['Section__c'],\n",
    "        'StartDate__c': str(rec['Start_Date__c']),\n",
    "        'EndDate__c': str(rec['End_Date__c']),\n",
    "    }\n",
    "       \n",
    "    try:\n",
    "        sf.Class__C.create(record)\n",
    "    except Exception as e:\n",
    "        print(e)"
   ]
  },
  {
   "cell_type": "code",
   "execution_count": 11,
   "metadata": {},
   "outputs": [
    {
     "ename": "SalesforceMalformedRequest",
     "evalue": "Malformed request https://na111.salesforce.com/services/data/v42.0/query/?q=SELECT+ID_Course__c%2C+Name+FROM+Class__c. Response content: [{'message': \"\\nSELECT ID_Course__c, Name FROM Class__c\\n       ^\\nERROR at Row:1:Column:8\\nNo such column 'ID_Course__c' on entity 'Class__c'. If you are attempting to use a custom field, be sure to append the '__c' after the custom field name. Please reference your WSDL or the describe call for the appropriate names.\", 'errorCode': 'INVALID_FIELD'}]",
     "output_type": "error",
     "traceback": [
      "\u001b[1;31m---------------------------------------------------------------------------\u001b[0m",
      "\u001b[1;31mSalesforceMalformedRequest\u001b[0m                Traceback (most recent call last)",
      "\u001b[1;32m<ipython-input-11-d6751018064b>\u001b[0m in \u001b[0;36m<module>\u001b[1;34m\u001b[0m\n\u001b[0;32m      3\u001b[0m \u001b[1;31m# The `Name` column in the primary key in Salesforce objects\u001b[0m\u001b[1;33m\u001b[0m\u001b[1;33m\u001b[0m\u001b[1;33m\u001b[0m\u001b[0m\n\u001b[0;32m      4\u001b[0m \u001b[0mdata\u001b[0m \u001b[1;33m=\u001b[0m \u001b[0msf\u001b[0m\u001b[1;33m.\u001b[0m\u001b[0mquery_all_iter\u001b[0m\u001b[1;33m(\u001b[0m\u001b[1;34m\"SELECT ID_Course__c, Name FROM Class__c\"\u001b[0m\u001b[1;33m)\u001b[0m\u001b[1;33m\u001b[0m\u001b[1;33m\u001b[0m\u001b[0m\n\u001b[1;32m----> 5\u001b[1;33m \u001b[1;32mfor\u001b[0m \u001b[0mrow\u001b[0m \u001b[1;32min\u001b[0m \u001b[0mdata\u001b[0m\u001b[1;33m:\u001b[0m\u001b[1;33m\u001b[0m\u001b[1;33m\u001b[0m\u001b[0m\n\u001b[0m\u001b[0;32m      6\u001b[0m     rec = {\n\u001b[0;32m      7\u001b[0m         \u001b[1;34m'Class__c'\u001b[0m\u001b[1;33m:\u001b[0m \u001b[0mrow\u001b[0m\u001b[1;33m[\u001b[0m\u001b[1;34m'Name'\u001b[0m\u001b[1;33m]\u001b[0m\u001b[1;33m,\u001b[0m\u001b[1;33m\u001b[0m\u001b[1;33m\u001b[0m\u001b[0m\n",
      "\u001b[1;32m~\\Anaconda3\\lib\\site-packages\\simple_salesforce\\api.py\u001b[0m in \u001b[0;36mquery_all_iter\u001b[1;34m(self, query, include_deleted, **kwargs)\u001b[0m\n\u001b[0;32m    413\u001b[0m         \"\"\"\n\u001b[0;32m    414\u001b[0m \u001b[1;33m\u001b[0m\u001b[0m\n\u001b[1;32m--> 415\u001b[1;33m         \u001b[0mresult\u001b[0m \u001b[1;33m=\u001b[0m \u001b[0mself\u001b[0m\u001b[1;33m.\u001b[0m\u001b[0mquery\u001b[0m\u001b[1;33m(\u001b[0m\u001b[0mquery\u001b[0m\u001b[1;33m,\u001b[0m \u001b[0minclude_deleted\u001b[0m\u001b[1;33m=\u001b[0m\u001b[0minclude_deleted\u001b[0m\u001b[1;33m,\u001b[0m \u001b[1;33m**\u001b[0m\u001b[0mkwargs\u001b[0m\u001b[1;33m)\u001b[0m\u001b[1;33m\u001b[0m\u001b[1;33m\u001b[0m\u001b[0m\n\u001b[0m\u001b[0;32m    416\u001b[0m         \u001b[1;32mwhile\u001b[0m \u001b[1;32mTrue\u001b[0m\u001b[1;33m:\u001b[0m\u001b[1;33m\u001b[0m\u001b[1;33m\u001b[0m\u001b[0m\n\u001b[0;32m    417\u001b[0m             \u001b[1;32mfor\u001b[0m \u001b[0mrecord\u001b[0m \u001b[1;32min\u001b[0m \u001b[0mresult\u001b[0m\u001b[1;33m[\u001b[0m\u001b[1;34m'records'\u001b[0m\u001b[1;33m]\u001b[0m\u001b[1;33m:\u001b[0m\u001b[1;33m\u001b[0m\u001b[1;33m\u001b[0m\u001b[0m\n",
      "\u001b[1;32m~\\Anaconda3\\lib\\site-packages\\simple_salesforce\\api.py\u001b[0m in \u001b[0;36mquery\u001b[1;34m(self, query, include_deleted, **kwargs)\u001b[0m\n\u001b[0;32m    355\u001b[0m         \u001b[1;31m# `requests` will correctly encode the query string passed as `params`\u001b[0m\u001b[1;33m\u001b[0m\u001b[1;33m\u001b[0m\u001b[1;33m\u001b[0m\u001b[0m\n\u001b[0;32m    356\u001b[0m         result = self._call_salesforce('GET', url, name='query',\n\u001b[1;32m--> 357\u001b[1;33m                                        params=params, **kwargs)\n\u001b[0m\u001b[0;32m    358\u001b[0m \u001b[1;33m\u001b[0m\u001b[0m\n\u001b[0;32m    359\u001b[0m         \u001b[1;32mreturn\u001b[0m \u001b[0mresult\u001b[0m\u001b[1;33m.\u001b[0m\u001b[0mjson\u001b[0m\u001b[1;33m(\u001b[0m\u001b[0mobject_pairs_hook\u001b[0m\u001b[1;33m=\u001b[0m\u001b[0mOrderedDict\u001b[0m\u001b[1;33m)\u001b[0m\u001b[1;33m\u001b[0m\u001b[1;33m\u001b[0m\u001b[0m\n",
      "\u001b[1;32m~\\Anaconda3\\lib\\site-packages\\simple_salesforce\\api.py\u001b[0m in \u001b[0;36m_call_salesforce\u001b[1;34m(self, method, url, name, **kwargs)\u001b[0m\n\u001b[0;32m    488\u001b[0m \u001b[1;33m\u001b[0m\u001b[0m\n\u001b[0;32m    489\u001b[0m         \u001b[1;32mif\u001b[0m \u001b[0mresult\u001b[0m\u001b[1;33m.\u001b[0m\u001b[0mstatus_code\u001b[0m \u001b[1;33m>=\u001b[0m \u001b[1;36m300\u001b[0m\u001b[1;33m:\u001b[0m\u001b[1;33m\u001b[0m\u001b[1;33m\u001b[0m\u001b[0m\n\u001b[1;32m--> 490\u001b[1;33m             \u001b[0mexception_handler\u001b[0m\u001b[1;33m(\u001b[0m\u001b[0mresult\u001b[0m\u001b[1;33m,\u001b[0m \u001b[0mname\u001b[0m\u001b[1;33m=\u001b[0m\u001b[0mname\u001b[0m\u001b[1;33m)\u001b[0m\u001b[1;33m\u001b[0m\u001b[1;33m\u001b[0m\u001b[0m\n\u001b[0m\u001b[0;32m    491\u001b[0m \u001b[1;33m\u001b[0m\u001b[0m\n\u001b[0;32m    492\u001b[0m         \u001b[0msforce_limit_info\u001b[0m \u001b[1;33m=\u001b[0m \u001b[0mresult\u001b[0m\u001b[1;33m.\u001b[0m\u001b[0mheaders\u001b[0m\u001b[1;33m.\u001b[0m\u001b[0mget\u001b[0m\u001b[1;33m(\u001b[0m\u001b[1;34m'Sforce-Limit-Info'\u001b[0m\u001b[1;33m)\u001b[0m\u001b[1;33m\u001b[0m\u001b[1;33m\u001b[0m\u001b[0m\n",
      "\u001b[1;32m~\\Anaconda3\\lib\\site-packages\\simple_salesforce\\util.py\u001b[0m in \u001b[0;36mexception_handler\u001b[1;34m(result, name)\u001b[0m\n\u001b[0;32m     66\u001b[0m     \u001b[0mexc_cls\u001b[0m \u001b[1;33m=\u001b[0m \u001b[0mexc_map\u001b[0m\u001b[1;33m.\u001b[0m\u001b[0mget\u001b[0m\u001b[1;33m(\u001b[0m\u001b[0mresult\u001b[0m\u001b[1;33m.\u001b[0m\u001b[0mstatus_code\u001b[0m\u001b[1;33m,\u001b[0m \u001b[0mSalesforceGeneralError\u001b[0m\u001b[1;33m)\u001b[0m\u001b[1;33m\u001b[0m\u001b[1;33m\u001b[0m\u001b[0m\n\u001b[0;32m     67\u001b[0m \u001b[1;33m\u001b[0m\u001b[0m\n\u001b[1;32m---> 68\u001b[1;33m     \u001b[1;32mraise\u001b[0m \u001b[0mexc_cls\u001b[0m\u001b[1;33m(\u001b[0m\u001b[0mresult\u001b[0m\u001b[1;33m.\u001b[0m\u001b[0murl\u001b[0m\u001b[1;33m,\u001b[0m \u001b[0mresult\u001b[0m\u001b[1;33m.\u001b[0m\u001b[0mstatus_code\u001b[0m\u001b[1;33m,\u001b[0m \u001b[0mname\u001b[0m\u001b[1;33m,\u001b[0m \u001b[0mresponse_content\u001b[0m\u001b[1;33m)\u001b[0m\u001b[1;33m\u001b[0m\u001b[1;33m\u001b[0m\u001b[0m\n\u001b[0m\u001b[0;32m     69\u001b[0m \u001b[1;33m\u001b[0m\u001b[0m\n\u001b[0;32m     70\u001b[0m \u001b[1;33m\u001b[0m\u001b[0m\n",
      "\u001b[1;31mSalesforceMalformedRequest\u001b[0m: Malformed request https://na111.salesforce.com/services/data/v42.0/query/?q=SELECT+ID_Course__c%2C+Name+FROM+Class__c. Response content: [{'message': \"\\nSELECT ID_Course__c, Name FROM Class__c\\n       ^\\nERROR at Row:1:Column:8\\nNo such column 'ID_Course__c' on entity 'Class__c'. If you are attempting to use a custom field, be sure to append the '__c' after the custom field name. Please reference your WSDL or the describe call for the appropriate names.\", 'errorCode': 'INVALID_FIELD'}]"
     ]
    }
   ],
   "source": [
    "class_lookup_list = []\n",
    "\n",
    "# The `Name` column in the primary key in Salesforce objects\n",
    "data = sf.query_all_iter(\"SELECT ID_Course__c, Name FROM Class__c\")\n",
    "for row in data:\n",
    "    rec = {\n",
    "        'Class__c': row['Name'],\n",
    "        'ID_Course__c': row['ID_Course__c']\n",
    "    }\n",
    "    class_lookup_list.append(rec)"
   ]
  },
  {
   "cell_type": "code",
   "execution_count": 12,
   "metadata": {},
   "outputs": [
    {
     "data": {
      "text/html": [
       "<div>\n",
       "<style scoped>\n",
       "    .dataframe tbody tr th:only-of-type {\n",
       "        vertical-align: middle;\n",
       "    }\n",
       "\n",
       "    .dataframe tbody tr th {\n",
       "        vertical-align: top;\n",
       "    }\n",
       "\n",
       "    .dataframe thead th {\n",
       "        text-align: right;\n",
       "    }\n",
       "</style>\n",
       "<table border=\"1\" class=\"dataframe\">\n",
       "  <thead>\n",
       "    <tr style=\"text-align: right;\">\n",
       "      <th></th>\n",
       "    </tr>\n",
       "  </thead>\n",
       "  <tbody>\n",
       "  </tbody>\n",
       "</table>\n",
       "</div>"
      ],
      "text/plain": [
       "Empty DataFrame\n",
       "Columns: []\n",
       "Index: []"
      ]
     },
     "execution_count": 12,
     "metadata": {},
     "output_type": "execute_result"
    }
   ],
   "source": [
    "class_lookup_df = pd.DataFrame(class_lookup_list)\n",
    "class_lookup_df"
   ]
  },
  {
   "cell_type": "code",
   "execution_count": null,
   "metadata": {},
   "outputs": [],
   "source": [
    "query = '''\n",
    "    SELECT\n",
    "        c.*\n",
    "        ,co.CourseCode\n",
    "    FROM\n",
    "        class c\n",
    "        INNER JOIN course co\n",
    "        ON c.ID_Course = co.ID_Course\n",
    "'''\n",
    "class_data_df = pd.read_sql(query, conn)\n",
    "class_data_df.head()"
   ]
  },
  {
   "cell_type": "code",
   "execution_count": null,
   "metadata": {},
   "outputs": [],
   "source": [
    "course_data_df.rename(columns={\n",
    "    'ID_Course':'Name',\n",
    "    'CourseCode':'Course_Code__c',\n",
    "    'CourseName':'Course_Name__c',\n",
    "    'CreditHours':'Credit_Hours__c',\n",
    "    'BootCampCourse':'Boot_Camp_Course__c',    \n",
    "}, inplace=True)\n",
    "course_data_df.head()"
   ]
  },
  {
   "cell_type": "code",
   "execution_count": null,
   "metadata": {},
   "outputs": [],
   "source": []
  },
  {
   "cell_type": "code",
   "execution_count": null,
   "metadata": {},
   "outputs": [],
   "source": [
    "try:\n",
    "    sf.bulk.Lead.insert(student_load)\n",
    "except Exception as e:\n",
    "    print(e)"
   ]
  },
  {
   "cell_type": "code",
   "execution_count": null,
   "metadata": {},
   "outputs": [],
   "source": []
  }
 ],
 "metadata": {
  "kernelspec": {
   "display_name": "Python 3",
   "language": "python",
   "name": "python3"
  },
  "language_info": {
   "codemirror_mode": {
    "name": "ipython",
    "version": 3
   },
   "file_extension": ".py",
   "mimetype": "text/x-python",
   "name": "python",
   "nbconvert_exporter": "python",
   "pygments_lexer": "ipython3",
   "version": "3.7.4"
  }
 },
 "nbformat": 4,
 "nbformat_minor": 2
}
