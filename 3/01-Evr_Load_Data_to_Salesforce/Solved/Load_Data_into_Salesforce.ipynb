{
 "cells": [
  {
   "cell_type": "markdown",
   "metadata": {},
   "source": [
    "## Install `simple_salesforce`  module\n",
    "\n",
    "Remove the comment symbol (#) to run `!pip install simple_salesforce`. Once this module is installed, you can comment it out again. "
   ]
  },
  {
   "cell_type": "code",
   "execution_count": 1,
   "metadata": {},
   "outputs": [],
   "source": [
    "#!pip install simple_salesforce"
   ]
  },
  {
   "cell_type": "markdown",
   "metadata": {},
   "source": [
    "## Import dependencies"
   ]
  },
  {
   "cell_type": "code",
   "execution_count": 2,
   "metadata": {},
   "outputs": [],
   "source": [
    "import json\n",
    "from sqlalchemy import create_engine\n",
    "import pandas as pd\n",
    "import pymysql\n",
    "pymysql.install_as_MySQLdb()"
   ]
  },
  {
   "cell_type": "markdown",
   "metadata": {},
   "source": [
    "## Import configuration variables"
   ]
  },
  {
   "cell_type": "code",
   "execution_count": 3,
   "metadata": {},
   "outputs": [],
   "source": [
    "# import sys\n",
    "# sys.path.append('../../../../')\n",
    "from config import sf_username, sf_password, sf_security_token\n",
    "from config import remote_db_endpoint, remote_db_port\n",
    "from config import remote_db_name, remote_db_user, remote_db_pwd"
   ]
  },
  {
   "cell_type": "markdown",
   "metadata": {},
   "source": [
    "## Set up `simple_salesforce`\n",
    "\n",
    "Pass in the username, password, and security token here. The security token contains information about your org."
   ]
  },
  {
   "cell_type": "code",
   "execution_count": 4,
   "metadata": {},
   "outputs": [],
   "source": [
    "from simple_salesforce import Salesforce\n",
    "sf = Salesforce(username=sf_username, password=sf_password, security_token=sf_security_token)"
   ]
  },
  {
   "cell_type": "markdown",
   "metadata": {},
   "source": [
    "## Connect to your MySQL database"
   ]
  },
  {
   "cell_type": "code",
   "execution_count": 5,
   "metadata": {},
   "outputs": [],
   "source": [
    "engine = create_engine(f\"mysql://{remote_db_user}:{remote_db_pwd}@{remote_db_endpoint}:{remote_db_port}/{remote_db_name}\")\n",
    "conn = engine.connect()"
   ]
  },
  {
   "cell_type": "markdown",
   "metadata": {},
   "source": [
    "## Query Data"
   ]
  },
  {
   "cell_type": "code",
   "execution_count": 6,
   "metadata": {},
   "outputs": [
    {
     "data": {
      "text/html": [
       "<div>\n",
       "<style scoped>\n",
       "    .dataframe tbody tr th:only-of-type {\n",
       "        vertical-align: middle;\n",
       "    }\n",
       "\n",
       "    .dataframe tbody tr th {\n",
       "        vertical-align: top;\n",
       "    }\n",
       "\n",
       "    .dataframe thead th {\n",
       "        text-align: right;\n",
       "    }\n",
       "</style>\n",
       "<table border=\"1\" class=\"dataframe\">\n",
       "  <thead>\n",
       "    <tr style=\"text-align: right;\">\n",
       "      <th></th>\n",
       "      <th>ID_Course</th>\n",
       "      <th>CourseCode</th>\n",
       "      <th>CourseName</th>\n",
       "      <th>CreditHours</th>\n",
       "      <th>BootCampCourse</th>\n",
       "    </tr>\n",
       "  </thead>\n",
       "  <tbody>\n",
       "    <tr>\n",
       "      <td>0</td>\n",
       "      <td>1</td>\n",
       "      <td>BC-DATAVIZ</td>\n",
       "      <td>Data Visualization and Analytics</td>\n",
       "      <td>12</td>\n",
       "      <td>1</td>\n",
       "    </tr>\n",
       "    <tr>\n",
       "      <td>1</td>\n",
       "      <td>2</td>\n",
       "      <td>BC-WEBDEV</td>\n",
       "      <td>Full Stack Web Development</td>\n",
       "      <td>12</td>\n",
       "      <td>1</td>\n",
       "    </tr>\n",
       "    <tr>\n",
       "      <td>2</td>\n",
       "      <td>3</td>\n",
       "      <td>BC-UIUX</td>\n",
       "      <td>User Interface/User Experience</td>\n",
       "      <td>12</td>\n",
       "      <td>1</td>\n",
       "    </tr>\n",
       "    <tr>\n",
       "      <td>3</td>\n",
       "      <td>4</td>\n",
       "      <td>CIS-349</td>\n",
       "      <td>Introduction to Databases</td>\n",
       "      <td>5</td>\n",
       "      <td>0</td>\n",
       "    </tr>\n",
       "    <tr>\n",
       "      <td>4</td>\n",
       "      <td>5</td>\n",
       "      <td>CIS-405</td>\n",
       "      <td>Database Programming</td>\n",
       "      <td>5</td>\n",
       "      <td>0</td>\n",
       "    </tr>\n",
       "    <tr>\n",
       "      <td>5</td>\n",
       "      <td>6</td>\n",
       "      <td>CIS-438</td>\n",
       "      <td>Database Administration</td>\n",
       "      <td>5</td>\n",
       "      <td>0</td>\n",
       "    </tr>\n",
       "    <tr>\n",
       "      <td>6</td>\n",
       "      <td>7</td>\n",
       "      <td>CIS-430</td>\n",
       "      <td>Business Systems Programming I</td>\n",
       "      <td>5</td>\n",
       "      <td>0</td>\n",
       "    </tr>\n",
       "    <tr>\n",
       "      <td>7</td>\n",
       "      <td>8</td>\n",
       "      <td>CIS-435</td>\n",
       "      <td>Business Systems Programming II</td>\n",
       "      <td>5</td>\n",
       "      <td>0</td>\n",
       "    </tr>\n",
       "  </tbody>\n",
       "</table>\n",
       "</div>"
      ],
      "text/plain": [
       "   ID_Course  CourseCode                        CourseName  CreditHours  \\\n",
       "0          1  BC-DATAVIZ  Data Visualization and Analytics           12   \n",
       "1          2   BC-WEBDEV        Full Stack Web Development           12   \n",
       "2          3     BC-UIUX    User Interface/User Experience           12   \n",
       "3          4     CIS-349         Introduction to Databases            5   \n",
       "4          5     CIS-405              Database Programming            5   \n",
       "5          6     CIS-438           Database Administration            5   \n",
       "6          7     CIS-430    Business Systems Programming I            5   \n",
       "7          8     CIS-435   Business Systems Programming II            5   \n",
       "\n",
       "   BootCampCourse  \n",
       "0               1  \n",
       "1               1  \n",
       "2               1  \n",
       "3               0  \n",
       "4               0  \n",
       "5               0  \n",
       "6               0  \n",
       "7               0  "
      ]
     },
     "execution_count": 6,
     "metadata": {},
     "output_type": "execute_result"
    }
   ],
   "source": [
    "student_data = pd.read_sql(\"SELECT * FROM course\", conn)\n",
    "student_data.head(30)"
   ]
  },
  {
   "cell_type": "markdown",
   "metadata": {},
   "source": [
    "## Transform Data"
   ]
  },
  {
   "cell_type": "code",
   "execution_count": 7,
   "metadata": {},
   "outputs": [],
   "source": [
    "#student_data['FullName'] = student_data['FirstName'].str.cat(student_data['LastName'], sep=\" \")\n",
    "#student_data['Company'] = 'Dartling University'\n",
    "#student_data = student_data.rename(columns={'FullName':'Name'})\n",
    "#student_load_df = student_data[['LastName','FirstName','Company']]\n",
    "#student_load_df.head()"
   ]
  },
  {
   "cell_type": "markdown",
   "metadata": {},
   "source": [
    "## Convert DataFrame to a list of dictionaries \n",
    "\n",
    "This can help facilitate a bulk insert"
   ]
  },
  {
   "cell_type": "code",
   "execution_count": 8,
   "metadata": {},
   "outputs": [
    {
     "data": {
      "text/plain": [
       "[{'ID_Course': 1,\n",
       "  'CourseCode': 'BC-DATAVIZ',\n",
       "  'CourseName': 'Data Visualization and Analytics',\n",
       "  'CreditHours': 12,\n",
       "  'BootCampCourse': 1},\n",
       " {'ID_Course': 2,\n",
       "  'CourseCode': 'BC-WEBDEV',\n",
       "  'CourseName': 'Full Stack Web Development',\n",
       "  'CreditHours': 12,\n",
       "  'BootCampCourse': 1},\n",
       " {'ID_Course': 3,\n",
       "  'CourseCode': 'BC-UIUX',\n",
       "  'CourseName': 'User Interface/User Experience',\n",
       "  'CreditHours': 12,\n",
       "  'BootCampCourse': 1},\n",
       " {'ID_Course': 4,\n",
       "  'CourseCode': 'CIS-349',\n",
       "  'CourseName': 'Introduction to Databases',\n",
       "  'CreditHours': 5,\n",
       "  'BootCampCourse': 0},\n",
       " {'ID_Course': 5,\n",
       "  'CourseCode': 'CIS-405',\n",
       "  'CourseName': 'Database Programming',\n",
       "  'CreditHours': 5,\n",
       "  'BootCampCourse': 0},\n",
       " {'ID_Course': 6,\n",
       "  'CourseCode': 'CIS-438',\n",
       "  'CourseName': 'Database Administration',\n",
       "  'CreditHours': 5,\n",
       "  'BootCampCourse': 0},\n",
       " {'ID_Course': 7,\n",
       "  'CourseCode': 'CIS-430',\n",
       "  'CourseName': 'Business Systems Programming I',\n",
       "  'CreditHours': 5,\n",
       "  'BootCampCourse': 0},\n",
       " {'ID_Course': 8,\n",
       "  'CourseCode': 'CIS-435',\n",
       "  'CourseName': 'Business Systems Programming II',\n",
       "  'CreditHours': 5,\n",
       "  'BootCampCourse': 0}]"
      ]
     },
     "execution_count": 8,
     "metadata": {},
     "output_type": "execute_result"
    }
   ],
   "source": [
    "student_data = student_data.to_dict('records')\n",
    "student_data"
   ]
  },
  {
   "cell_type": "markdown",
   "metadata": {},
   "source": [
    "## Example of inserting rows individually\n",
    "\n",
    "Loop through the DataFrame and assemble indiviudal dictionaries"
   ]
  },
  {
   "cell_type": "code",
   "execution_count": 9,
   "metadata": {},
   "outputs": [
    {
     "ename": "AttributeError",
     "evalue": "'list' object has no attribute 'iterrows'",
     "output_type": "error",
     "traceback": [
      "\u001b[1;31m---------------------------------------------------------------------------\u001b[0m",
      "\u001b[1;31mAttributeError\u001b[0m                            Traceback (most recent call last)",
      "\u001b[1;32m<ipython-input-9-b9c0df87d398>\u001b[0m in \u001b[0;36m<module>\u001b[1;34m\u001b[0m\n\u001b[1;32m----> 1\u001b[1;33m \u001b[1;32mfor\u001b[0m \u001b[0mindex\u001b[0m\u001b[1;33m,\u001b[0m \u001b[0mrow\u001b[0m \u001b[1;32min\u001b[0m \u001b[0mstudent_data\u001b[0m\u001b[1;33m.\u001b[0m\u001b[0miterrows\u001b[0m\u001b[1;33m(\u001b[0m\u001b[1;33m)\u001b[0m\u001b[1;33m:\u001b[0m\u001b[1;33m\u001b[0m\u001b[1;33m\u001b[0m\u001b[0m\n\u001b[0m\u001b[0;32m      2\u001b[0m \u001b[1;33m\u001b[0m\u001b[0m\n\u001b[0;32m      3\u001b[0m     record = {\n\u001b[0;32m      4\u001b[0m         \u001b[1;34m'LastName'\u001b[0m\u001b[1;33m:\u001b[0m \u001b[0mrow\u001b[0m\u001b[1;33m[\u001b[0m\u001b[1;34m'LastName'\u001b[0m\u001b[1;33m]\u001b[0m\u001b[1;33m,\u001b[0m\u001b[1;33m\u001b[0m\u001b[1;33m\u001b[0m\u001b[0m\n\u001b[0;32m      5\u001b[0m         \u001b[1;34m'FirstName'\u001b[0m\u001b[1;33m:\u001b[0m \u001b[0mrow\u001b[0m\u001b[1;33m[\u001b[0m\u001b[1;34m'FirstName'\u001b[0m\u001b[1;33m]\u001b[0m\u001b[1;33m,\u001b[0m\u001b[1;33m\u001b[0m\u001b[1;33m\u001b[0m\u001b[0m\n",
      "\u001b[1;31mAttributeError\u001b[0m: 'list' object has no attribute 'iterrows'"
     ]
    }
   ],
   "source": [
    "for index, row in student_data.iterrows():\n",
    "\n",
    "    record = {\n",
    "        'LastName': row['LastName'],\n",
    "        'FirstName': row['FirstName'],\n",
    "        'Company': 'Dartling University'\n",
    "    }\n",
    "    \n",
    "    try:\n",
    "        sf.Lead.create(record)\n",
    "    except Exception as e:\n",
    "        print(e)"
   ]
  },
  {
   "cell_type": "markdown",
   "metadata": {},
   "source": [
    "## Example of inserting rows in bulk"
   ]
  },
  {
   "cell_type": "code",
   "execution_count": null,
   "metadata": {},
   "outputs": [],
   "source": [
    "try:\n",
    "    sf.bulk.Lead.insert(student_load)\n",
    "except Exception as e:\n",
    "    print(e)"
   ]
  },
  {
   "cell_type": "code",
   "execution_count": null,
   "metadata": {},
   "outputs": [],
   "source": []
  }
 ],
 "metadata": {
  "kernelspec": {
   "display_name": "Python 3",
   "language": "python",
   "name": "python3"
  },
  "language_info": {
   "codemirror_mode": {
    "name": "ipython",
    "version": 3
   },
   "file_extension": ".py",
   "mimetype": "text/x-python",
   "name": "python",
   "nbconvert_exporter": "python",
   "pygments_lexer": "ipython3",
   "version": "3.7.4"
  }
 },
 "nbformat": 4,
 "nbformat_minor": 2
}
