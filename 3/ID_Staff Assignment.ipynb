{
 "cells": [
  {
   "cell_type": "code",
   "execution_count": null,
   "metadata": {},
   "outputs": [],
   "source": [
    " #!pip install simple_salesforce"
   ]
  },
  {
   "cell_type": "code",
   "execution_count": null,
   "metadata": {},
   "outputs": [],
   "source": [
    "import json\n",
    "from sqlalchemy import create_engine\n",
    "from datetime import date\n",
    "import pandas as pd\n",
    "import pymysql\n",
    "pymysql.install_as_MySQLdb()"
   ]
  },
  {
   "cell_type": "code",
   "execution_count": null,
   "metadata": {},
   "outputs": [],
   "source": [
    " # Make sure to use your own `config.py` file. Consider ensuring that these variable names are in sync\n",
    "from config import sf_username, sf_password, sf_security_token\n",
    "from config import remote_db_endpoint, remote_db_port\n",
    "from config import remote_db_name, remote_db_user, remote_db_pwd"
   ]
  },
  {
   "cell_type": "code",
   "execution_count": null,
   "metadata": {},
   "outputs": [],
   "source": [
    " from simple_salesforce import Salesforce\n",
    "sf = Salesforce(username=sf_username, password=sf_password, security_token=sf_security_token)"
   ]
  },
  {
   "cell_type": "code",
   "execution_count": null,
   "metadata": {},
   "outputs": [],
   "source": [
    " engine = create_engine(f\"mysql://{remote_db_user}:{remote_db_pwd}@{remote_db_endpoint}:{remote_db_port}/{remote_db_name}\")\n",
    "conn = engine.connect()"
   ]
  },
  {
   "cell_type": "code",
   "execution_count": null,
   "metadata": {},
   "outputs": [],
   "source": [
    " course_data_df = pd.read_sql(\"SELECT * FROM course\", conn)\n",
    "course_data_df.head(30)"
   ]
  },
  {
   "cell_type": "code",
   "execution_count": null,
   "metadata": {},
   "outputs": [],
   "source": [
    "course_data_df.rename(columns={\n",
    "    'CourseCode':'Course_Code__c',\n",
    "    'CourseName':'Course_Name__c',\n",
    "    'CreditHours':'Credit_Hours__c',\n",
    "    'BootCampCourse':'Boot_Camp_Course__c',    \n",
    "}, inplace=True)\n",
    "course_data_df.head()"
   ]
  },
  {
   "cell_type": "code",
   "execution_count": null,
   "metadata": {},
   "outputs": [],
   "source": [
    " course_data_df = course_data_df[['Course_Code__c', 'Course_Name__c', 'Credit_Hours__c', 'Boot_Camp_Course__c']]\n",
    "course_data_df.head()"
   ]
  },
  {
   "cell_type": "code",
   "execution_count": null,
   "metadata": {},
   "outputs": [],
   "source": [
    " course_data_records = course_data_df.to_dict('records')\n",
    "course_data_records"
   ]
  },
  {
   "cell_type": "code",
   "execution_count": null,
   "metadata": {},
   "outputs": [],
   "source": [
    "for rec in course_data_records:\n",
    "\n",
    "    record = {\n",
    "        'Course_Code__c': rec['Course_Code__c'],\n",
    "        'Course_Name__c': rec['Course_Name__c'],\n",
    "        'Credit_Hours__c': rec['Credit_Hours__c'],\n",
    "        'Boot_Camp_Course__c': rec['Boot_Camp_Course__c'],\n",
    "    }\n",
    "    \n",
    "    try:\n",
    "        sf.Course__C.create(record)\n",
    "    except Exception as e:\n",
    "        print(e)"
   ]
  },
  {
   "cell_type": "code",
   "execution_count": null,
   "metadata": {},
   "outputs": [],
   "source": [
    "course_lookup_list = []\n",
    "\n",
    "# The `Name` column in the primary key in Salesforce objects\n",
    "data = sf.query_all_iter(\"SELECT Course_Code__c, Name FROM Course__c\")\n",
    "for row in data:\n",
    "    rec = {\n",
    "        'Course__c': row['Name'],\n",
    "        'Course_Code__c': row['Course_Code__c']\n",
    "    }\n",
    "    course_lookup_list.append(rec)"
   ]
  },
  {
   "cell_type": "code",
   "execution_count": null,
   "metadata": {},
   "outputs": [],
   "source": [
    " course_lookup_df = pd.DataFrame(course_lookup_list)\n",
    "course_lookup_df"
   ]
  },
  {
   "cell_type": "code",
   "execution_count": null,
   "metadata": {},
   "outputs": [],
   "source": [
    "query = '''\n",
    "    SELECT\n",
    "        c.*\n",
    "        ,co.CourseCode\n",
    "    FROM\n",
    "        class c\n",
    "        INNER JOIN course co\n",
    "        ON c.ID_Course = co.ID_Course\n",
    "'''\n",
    "class_data_df = pd.read_sql(query, conn)\n",
    "class_data_df.head()"
   ]
  },
  {
   "cell_type": "code",
   "execution_count": null,
   "metadata": {},
   "outputs": [],
   "source": [
    " class_data_df.rename(columns={\n",
    "    'Section':'Section__c',\n",
    "    'StartDate':'Start_Date__c',\n",
    "    'EndDate':'End_Date__c',\n",
    "    'CourseCode':'Course_Code__c'\n",
    "}, inplace=True)\n",
    "\n",
    "class_data_df"
   ]
  },
  {
   "cell_type": "code",
   "execution_count": null,
   "metadata": {},
   "outputs": [],
   "source": [
    " class_data_df = pd.merge(class_data_df, course_lookup_df, how='left')\n",
    "#class_data_df.drop(columns = ['ID_Class','ID_Course','CourseName','CreditHours','BootCampCourse','Course_Code__c'], inplace=True)\n",
    "\n",
    "class_data_df.head()"
   ]
  },
  {
   "cell_type": "code",
   "execution_count": null,
   "metadata": {},
   "outputs": [],
   "source": [
    " class_data_df\n",
    "class_data_df['Start_Date__c'] = pd.to_datetime(class_data_df['Start_Date__c']).dt.date\n",
    "class_data_df['End_Date__c'] = pd.to_datetime(class_data_df['End_Date__c']).dt.date\n",
    "\n",
    "class_data_df.head()"
   ]
  },
  {
   "cell_type": "code",
   "execution_count": null,
   "metadata": {},
   "outputs": [],
   "source": [
    " class_data_records = class_data_df.to_dict(orient='records')\n",
    "class_data_records"
   ]
  },
  {
   "cell_type": "code",
   "execution_count": null,
   "metadata": {},
   "outputs": [],
   "source": [
    "for rec in class_data_records:\n",
    " \n",
    "    record = {\n",
    "        'Course__c': rec['Course__c'],\n",
    "        'Section__c': rec['Section__c'],\n",
    "        'Start_Date__c': str(rec['Start_Date__c']),\n",
    "        'End_Date__c': str(rec['End_Date__c']),\n",
    "    }\n",
    "    \n",
    "    try:\n",
    "        sf.Class__C.create(record)\n",
    "    except Exception as e:\n",
    "        print(e)"
   ]
  },
  {
   "cell_type": "code",
   "execution_count": null,
   "metadata": {},
   "outputs": [],
   "source": []
  },
  {
   "cell_type": "code",
   "execution_count": null,
   "metadata": {},
   "outputs": [],
   "source": []
  }
 ],
 "metadata": {
  "kernelspec": {
   "display_name": "Python 3",
   "language": "python",
   "name": "python3"
  },
  "language_info": {
   "codemirror_mode": {
    "name": "ipython",
    "version": 3
   },
   "file_extension": ".py",
   "mimetype": "text/x-python",
   "name": "python",
   "nbconvert_exporter": "python",
   "pygments_lexer": "ipython3",
   "version": "3.7.4"
  }
 },
 "nbformat": 4,
 "nbformat_minor": 2
}
